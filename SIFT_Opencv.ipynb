{
 "cells": [
  {
   "cell_type": "code",
   "execution_count": 1,
   "metadata": {},
   "outputs": [],
   "source": [
    "import numpy as np\n",
    "import cv2"
   ]
  },
  {
   "cell_type": "code",
   "execution_count": 2,
   "metadata": {},
   "outputs": [
    {
     "data": {
      "text/plain": [
       "array([[[ 10,  15,  14],\n",
       "        [  7,  12,  11],\n",
       "        [  3,   8,   7],\n",
       "        ...,\n",
       "        [ 75,  54,  53],\n",
       "        [ 78,  57,  56],\n",
       "        [ 80,  59,  58]],\n",
       "\n",
       "       [[ 11,  16,  15],\n",
       "        [  8,  13,  12],\n",
       "        [  4,   9,   8],\n",
       "        ...,\n",
       "        [ 68,  47,  46],\n",
       "        [ 71,  50,  49],\n",
       "        [ 73,  52,  51]],\n",
       "\n",
       "       [[ 11,  16,  15],\n",
       "        [  8,  13,  12],\n",
       "        [  4,   9,   8],\n",
       "        ...,\n",
       "        [ 64,  43,  45],\n",
       "        [ 66,  46,  45],\n",
       "        [ 68,  48,  47]],\n",
       "\n",
       "       ...,\n",
       "\n",
       "       [[194, 199, 200],\n",
       "        [193, 198, 199],\n",
       "        [192, 197, 196],\n",
       "        ...,\n",
       "        [104, 132, 133],\n",
       "        [106, 134, 135],\n",
       "        [109, 137, 138]],\n",
       "\n",
       "       [[190, 195, 196],\n",
       "        [189, 194, 195],\n",
       "        [189, 194, 193],\n",
       "        ...,\n",
       "        [103, 131, 132],\n",
       "        [106, 134, 135],\n",
       "        [108, 136, 137]],\n",
       "\n",
       "       [[184, 189, 190],\n",
       "        [185, 190, 191],\n",
       "        [187, 192, 191],\n",
       "        ...,\n",
       "        [100, 128, 129],\n",
       "        [103, 131, 132],\n",
       "        [106, 134, 135]]], dtype=uint8)"
      ]
     },
     "execution_count": 2,
     "metadata": {},
     "output_type": "execute_result"
    }
   ],
   "source": [
    "img=cv2.imread('F:/emmawatson1.jpg')\n",
    "img"
   ]
  },
  {
   "cell_type": "code",
   "execution_count": 3,
   "metadata": {},
   "outputs": [
    {
     "data": {
      "text/plain": [
       "array([[ 14,  11,   7, ...,  56,  59,  61],\n",
       "       [ 15,  12,   8, ...,  49,  52,  54],\n",
       "       [ 15,  12,   8, ...,  46,  48,  50],\n",
       "       ...,\n",
       "       [199, 198, 196, ..., 129, 131, 134],\n",
       "       [195, 194, 193, ..., 128, 131, 133],\n",
       "       [189, 190, 191, ..., 125, 128, 131]], dtype=uint8)"
      ]
     },
     "execution_count": 3,
     "metadata": {},
     "output_type": "execute_result"
    }
   ],
   "source": [
    "gray=cv2.cvtColor(img,cv2.COLOR_BGR2GRAY)\n",
    "gray"
   ]
  },
  {
   "cell_type": "code",
   "execution_count": 4,
   "metadata": {},
   "outputs": [],
   "source": [
    "#! pip install --user opencv-contrib-python==3.4.2.16\n"
   ]
  },
  {
   "cell_type": "code",
   "execution_count": 5,
   "metadata": {},
   "outputs": [
    {
     "data": {
      "text/plain": [
       "<xfeatures2d_SIFT 000001C1226F0FD0>"
      ]
     },
     "execution_count": 5,
     "metadata": {},
     "output_type": "execute_result"
    }
   ],
   "source": [
    "sift=cv2.xfeatures2d.SIFT_create()\n",
    "sift"
   ]
  },
  {
   "cell_type": "code",
   "execution_count": 6,
   "metadata": {},
   "outputs": [],
   "source": [
    "kp = sift.detect(gray,None)"
   ]
  },
  {
   "cell_type": "code",
   "execution_count": null,
   "metadata": {},
   "outputs": [],
   "source": [
    " "
   ]
  },
  {
   "cell_type": "code",
   "execution_count": 7,
   "metadata": {},
   "outputs": [],
   "source": [
    "img=cv2.drawKeypoints(gray,kp,img)\n"
   ]
  },
  {
   "cell_type": "code",
   "execution_count": 8,
   "metadata": {},
   "outputs": [
    {
     "data": {
      "text/plain": [
       "True"
      ]
     },
     "execution_count": 8,
     "metadata": {},
     "output_type": "execute_result"
    }
   ],
   "source": [
    "cv2.imwrite('F:/siftimage.jpg',img)"
   ]
  },
  {
   "cell_type": "code",
   "execution_count": 9,
   "metadata": {},
   "outputs": [],
   "source": [
    "#cv2.imshow('img', img)"
   ]
  },
  {
   "cell_type": "code",
   "execution_count": null,
   "metadata": {},
   "outputs": [],
   "source": []
  }
 ],
 "metadata": {
  "kernelspec": {
   "display_name": "Python 3",
   "language": "python",
   "name": "python3"
  },
  "language_info": {
   "codemirror_mode": {
    "name": "ipython",
    "version": 3
   },
   "file_extension": ".py",
   "mimetype": "text/x-python",
   "name": "python",
   "nbconvert_exporter": "python",
   "pygments_lexer": "ipython3",
   "version": "3.7.4"
  }
 },
 "nbformat": 4,
 "nbformat_minor": 2
}
